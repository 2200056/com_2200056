{
  "nbformat": 4,
  "nbformat_minor": 0,
  "metadata": {
    "colab": {
      "provenance": [],
      "authorship_tag": "ABX9TyPBCdvMJ2Kxc287GM23i+rP",
      "include_colab_link": true
    },
    "kernelspec": {
      "name": "python3",
      "display_name": "Python 3"
    },
    "language_info": {
      "name": "python"
    }
  },
  "cells": [
    {
      "cell_type": "markdown",
      "metadata": {
        "id": "view-in-github",
        "colab_type": "text"
      },
      "source": [
        "<a href=\"https://colab.research.google.com/github/2200056/com_2200056/blob/main/com_2201_221028.ipynb\" target=\"_parent\"><img src=\"https://colab.research.google.com/assets/colab-badge.svg\" alt=\"Open In Colab\"/></a>"
      ]
    },
    {
      "cell_type": "code",
      "execution_count": null,
      "metadata": {
        "id": "7jNr5tn29142"
      },
      "outputs": [],
      "source": [
        "total = 0\n",
        "counter = 1\n",
        "while counter <= 10:\n",
        "  grabe = int(input(\"점수를 입력하시오.;\"))\n",
        "  total = grabe + total \n",
        "  counter = counter + 1\n",
        "average = total /10\n",
        "print (average) \n",
        "\n"
      ]
    },
    {
      "cell_type": "code",
      "source": [
        "print(\"hello world\")\n",
        "print(\"안녕 파이썬!\")"
      ],
      "metadata": {
        "id": "9GWhIuV4FIzU"
      },
      "execution_count": null,
      "outputs": []
    },
    {
      "cell_type": "code",
      "source": [
        "print(4+3);"
      ],
      "metadata": {
        "colab": {
          "base_uri": "https://localhost:8080/"
        },
        "id": "izbubsUqGNgO",
        "outputId": "9ff585ad-65e6-420c-dfb8-fcb4784db174"
      },
      "execution_count": 5,
      "outputs": [
        {
          "output_type": "stream",
          "name": "stdout",
          "text": [
            "7\n"
          ]
        }
      ]
    },
    {
      "cell_type": "code",
      "source": [
        "x = 10 \n",
        "y = 2 \n",
        "result = x + y\n",
        "print (result)"
      ],
      "metadata": {
        "colab": {
          "base_uri": "https://localhost:8080/"
        },
        "id": "DYc6hz3REVM1",
        "outputId": "ba7e18a4-a881-4824-b66c-5c6f816a0f7b"
      },
      "execution_count": 3,
      "outputs": [
        {
          "output_type": "stream",
          "name": "stdout",
          "text": [
            "12\n"
          ]
        }
      ]
    },
    {
      "cell_type": "markdown",
      "source": [],
      "metadata": {
        "id": "fpdmr7O6Ll1p"
      }
    },
    {
      "cell_type": "code",
      "source": [
        "print(\"#\" * 10)\n",
        "print(\"안녕하세요? #\")\n",
        "print(\"# * 10\")"
      ],
      "metadata": {
        "id": "SGAX3l_KNUdZ"
      },
      "execution_count": null,
      "outputs": []
    },
    {
      "cell_type": "code",
      "source": [
        "print(\"3개의 값을 입력하시오.\")\n",
        "x = int(input(\"x의 값을 입력하시오.:\"))\n",
        "y = int(input(\"y의 값을 입력하시오.:\"))\n",
        "z = int(input(\"z의 값을 입력하시오.:\"))\n",
        "x = x + 1\n",
        "y = y + 1\n",
        "z = z = 1\n",
        "print(\"변경된 값은:\",z, y, x,\"로 변경되었습니다.\")"
      ],
      "metadata": {
        "colab": {
          "base_uri": "https://localhost:8080/"
        },
        "id": "byUgsj19LmES",
        "outputId": "8057751c-8494-45ef-8546-2cce9a6e1709"
      },
      "execution_count": null,
      "outputs": [
        {
          "output_type": "stream",
          "name": "stdout",
          "text": [
            "3개의 값을 입력하시오.\n"
          ]
        }
      ]
    },
    {
      "cell_type": "code",
      "source": [
        "won = 1000\n",
        "usd = won * 1418\n",
        "print (usd)"
      ],
      "metadata": {
        "colab": {
          "base_uri": "https://localhost:8080/"
        },
        "id": "KOhuS12UNPKC",
        "outputId": "8ec59434-2004-46a3-bce3-f178ffd173ee"
      },
      "execution_count": 8,
      "outputs": [
        {
          "output_type": "stream",
          "name": "stdout",
          "text": [
            "1418000\n"
          ]
        }
      ]
    },
    {
      "cell_type": "code",
      "source": [
        "print (\"현재 환율을 입력하시오.: \")\n",
        "exchange_rate = int (input(\"달러의 환유금액을 입력; \"))\n",
        "won = int(input(\"한화금액을 입력하시오.; \"))\n",
        "usd = won * exchange_rate\n",
        "print(usd)"
      ],
      "metadata": {
        "colab": {
          "base_uri": "https://localhost:8080/"
        },
        "id": "VX-QfNpiL5Zx",
        "outputId": "a13b400e-4f3d-4969-d53d-d28347d96f8a"
      },
      "execution_count": 9,
      "outputs": [
        {
          "output_type": "stream",
          "name": "stdout",
          "text": [
            "현재 환율을 입력하시오.: \n",
            "달러의 환유금액을 입력; 1418\n",
            "한화금액을 입력하시오.; 5000\n",
            "7090000\n"
          ]
        }
      ]
    },
    {
      "cell_type": "code",
      "source": [
        "fahrenhelt = 100\n",
        "celsius = fahrenhelt - 32\n",
        "celsius = celsius * 5\n",
        "celsius = celsius / 9\n",
        "print(celsius)"
      ],
      "metadata": {
        "colab": {
          "base_uri": "https://localhost:8080/"
        },
        "id": "ZpBNtS5zPBJw",
        "outputId": "d989c0bb-a9a3-4255-e81b-bd1907662982"
      },
      "execution_count": 15,
      "outputs": [
        {
          "output_type": "stream",
          "name": "stdout",
          "text": [
            "37.77777777777778\n"
          ]
        }
      ]
    }
  ]
}